{
  "nbformat": 4,
  "nbformat_minor": 0,
  "metadata": {
    "colab": {
      "name": "VH2021.ipynb",
      "provenance": [],
      "collapsed_sections": [],
      "authorship_tag": "ABX9TyMMkawdXpxa8x100HNFaAkH",
      "include_colab_link": true
    },
    "kernelspec": {
      "name": "python3",
      "display_name": "Python 3"
    },
    "language_info": {
      "name": "python"
    }
  },
  "cells": [
    {
      "cell_type": "markdown",
      "metadata": {
        "id": "view-in-github",
        "colab_type": "text"
      },
      "source": [
        "<a href=\"https://colab.research.google.com/github/ItsQure/Deaf-VOIP-Empowerment/blob/main/VH2021.ipynb\" target=\"_parent\"><img src=\"https://colab.research.google.com/assets/colab-badge.svg\" alt=\"Open In Colab\"/></a>"
      ]
    },
    {
      "cell_type": "code",
      "metadata": {
        "id": "bz6RWxdUa8lc"
      },
      "source": [
        "#https://github.com/openvinotoolkit/open_model_zoo/blob/master/demos/gesture_recognition_demo/python/README.md\n",
        "#https://github.com/openvinotoolkit/training_extensions/blob/develop/models/action_recognition/model_templates/gesture-recognition/README.md\n",
        "#https://medium.com/analytics-vidhya/intel-openvino-on-google-colab-20ac8d2eede6\n"
      ],
      "execution_count": null,
      "outputs": []
    },
    {
      "cell_type": "code",
      "metadata": {
        "colab": {
          "base_uri": "https://localhost:8080/"
        },
        "id": "6IDAK6mYucZv",
        "outputId": "ef3f1fee-b011-41d0-e1ff-f26ef777b23e"
      },
      "source": [
        "!pip install openvino"
      ],
      "execution_count": 1,
      "outputs": [
        {
          "output_type": "stream",
          "name": "stdout",
          "text": [
            "Collecting openvino\n",
            "  Downloading openvino-2021.4.1-3926-cp37-cp37m-manylinux2014_x86_64.whl (28.9 MB)\n",
            "\u001b[K     |████████████████████████████████| 28.9 MB 43 kB/s \n",
            "\u001b[?25hRequirement already satisfied: numpy<1.20,>=1.16.6 in /usr/local/lib/python3.7/dist-packages (from openvino) (1.19.5)\n",
            "Installing collected packages: openvino\n",
            "Successfully installed openvino-2021.4.1\n"
          ]
        }
      ]
    },
    {
      "cell_type": "code",
      "metadata": {
        "id": "LY0ALXBxudSO"
      },
      "source": [
        "from openvino.inference_engine import IENetwork \n",
        "from openvino.inference_engine import IECore\n",
        "import warnings\n",
        "from google.colab.patches import cv2_imshow\n",
        "warnings.filterwarnings(\"ignore\", category=DeprecationWarning)"
      ],
      "execution_count": 2,
      "outputs": []
    },
    {
      "cell_type": "code",
      "metadata": {
        "id": "EW9SjE3Muhy8"
      },
      "source": [
        "def load_IR_to_IE(model_xml):\n",
        "    ### Load the Inference Engine API\n",
        "    plugin = IECore()\n",
        "    ### Loading the IR files to IENetwork class\n",
        "    model_bin = model_xml[:-3]+\"bin\" \n",
        "    network = IENetwork(model=model_xml, weights=model_bin)\n",
        "    ### Loading the network\n",
        "    executable_net = plugin.load_network(network,\"CPU\")\n",
        "    print(\"Network succesfully loaded into the Inference Engine\")\n",
        "    return executable_net"
      ],
      "execution_count": 3,
      "outputs": []
    },
    {
      "cell_type": "code",
      "metadata": {
        "id": "hpt3DZsLuk-c"
      },
      "source": [
        "def synchronous_inference(executable_net, image):\n",
        "    ### Get the input blob for the inference request\n",
        "    input_blob = next(iter(executable_net.inputs))\n",
        "    ### Perform Synchronous Inference\n",
        "    result = executable_net.infer(inputs = {input_blob: image})\n",
        "    return result"
      ],
      "execution_count": 4,
      "outputs": []
    },
    {
      "cell_type": "code",
      "metadata": {
        "id": "xowTdxHMuokg"
      },
      "source": [
        "#EXAMPLE\n",
        "en = load_IR_to_IE('age.xml')\n",
        "import cv2\n",
        "image = cv2.imread('age1.png')\n",
        "#face_img = cv2.dnn.blobFromImage(image, 1./127.5, (128, 128), (1, 1, 1), True)\n",
        "resized = cv2.resize(image, (62,62), interpolation = cv2.INTER_AREA)\n",
        "res = synchronous_inference(en, img_tensor)"
      ],
      "execution_count": null,
      "outputs": []
    }
  ]
}